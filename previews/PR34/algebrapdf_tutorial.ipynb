{
 "cells": [
  {
   "cell_type": "markdown",
   "source": [
    "# AlgebraPDF.jl Tutorial"
   ],
   "metadata": {}
  },
  {
   "cell_type": "markdown",
   "source": [
    "This tutorial guides the user through the basic example of\n",
    "creating a density function which is a sum of a gaussian signal peak,\n",
    "and exponential background."
   ],
   "metadata": {}
  },
  {
   "outputs": [],
   "cell_type": "code",
   "source": [
    "using AlgebraPDF, AlgebraPDF.Parameters\n",
    "\n",
    "using Plots\n",
    "theme(:wong, frame=:box, xlab=\"x\", lab=\"\", minorticks=true,\n",
    "\tguidefontvalign=:top, guidefonthalign=:right,\n",
    "\txlim=(:auto,:auto), ylim=(0,:auto), grid=false)"
   ],
   "metadata": {},
   "execution_count": null
  },
  {
   "cell_type": "markdown",
   "source": [
    "## Function With Parameters"
   ],
   "metadata": {}
  },
  {
   "cell_type": "markdown",
   "source": [
    "The package provides a standard wrapper of a function with parameters `f(x;p)`,\n",
    "where `x` is function variable, `p` is a structure that holds parameters\n",
    "with their names. The simplest and the most common case is where `x` would be a number,\n",
    "and `p` is a named tuple. For example,"
   ],
   "metadata": {}
  },
  {
   "outputs": [],
   "cell_type": "code",
   "source": [
    "myf(x; p=(a=1.1,b=2.2)) = x*p.a + p.b/x"
   ],
   "metadata": {},
   "execution_count": null
  },
  {
   "cell_type": "markdown",
   "source": [
    "The modele introduces a type `FunctionWithParameters`,\n",
    "which intends to behave like the `myf` from the user prospective."
   ],
   "metadata": {}
  },
  {
   "cell_type": "markdown",
   "source": [
    "## A Gaussian function"
   ],
   "metadata": {}
  },
  {
   "cell_type": "markdown",
   "source": [
    "The gaussian function is constructed calling a specific type `FGauss`,\n",
    "and giving a tuple of parameters with their default values"
   ],
   "metadata": {}
  },
  {
   "outputs": [],
   "cell_type": "code",
   "source": [
    "gaussian = FGauss((μ=1.1, σ=0.9))"
   ],
   "metadata": {},
   "execution_count": null
  },
  {
   "cell_type": "markdown",
   "source": [
    "It is on of the predefined examples of functions with parameters, `FGauss <: AbstractFunctionWithParameters`.\n",
    "The object is callable like a regular function"
   ],
   "metadata": {}
  },
  {
   "outputs": [],
   "cell_type": "code",
   "source": [
    "gaussian(1.1)"
   ],
   "metadata": {},
   "execution_count": null
  },
  {
   "cell_type": "markdown",
   "source": [
    "when array is passed, the function is broadcasted"
   ],
   "metadata": {}
  },
  {
   "outputs": [],
   "cell_type": "code",
   "source": [
    "gaussian(-1.8:0.9:1)"
   ],
   "metadata": {},
   "execution_count": null
  },
  {
   "cell_type": "markdown",
   "source": [
    "Default values of the parameters can be accessed with `pars`, and `freepars` method."
   ],
   "metadata": {}
  },
  {
   "outputs": [],
   "cell_type": "code",
   "source": [
    "pars(gaussian)"
   ],
   "metadata": {},
   "execution_count": null
  },
  {
   "cell_type": "markdown",
   "source": [
    "One can provide the key argument `p` with the named tuple of parameters.\n",
    "These tuple is always used instread of the default values."
   ],
   "metadata": {}
  },
  {
   "outputs": [],
   "cell_type": "code",
   "source": [
    "gaussian(0.0; p=(; μ = 1.1, σ = 0.9))"
   ],
   "metadata": {},
   "execution_count": null
  },
  {
   "cell_type": "markdown",
   "source": [
    "The parameters can be adjusted"
   ],
   "metadata": {}
  },
  {
   "outputs": [],
   "cell_type": "code",
   "source": [
    "gaussian(0.0; p=(; μ = 1.1, σ = 0.9))"
   ],
   "metadata": {},
   "execution_count": null
  },
  {
   "cell_type": "markdown",
   "source": [
    "Similar to the regular fuction, the object can be plotted."
   ],
   "metadata": {}
  },
  {
   "outputs": [],
   "cell_type": "code",
   "source": [
    "plot(gaussian, -4, 7, fill=0, α=0.8)"
   ],
   "metadata": {},
   "execution_count": null
  },
  {
   "cell_type": "markdown",
   "source": [
    "## Normalization"
   ],
   "metadata": {}
  },
  {
   "cell_type": "markdown",
   "source": [
    "To turn an arbitrary function to the probability density,\n",
    "one need to introduce normalization.\n",
    "This is done by attaching the range (support) to the function."
   ],
   "metadata": {}
  },
  {
   "outputs": [],
   "cell_type": "code",
   "source": [
    "nGaussian = Normalized(gaussian, (-4, 7))"
   ],
   "metadata": {},
   "execution_count": null
  },
  {
   "cell_type": "markdown",
   "source": [
    "The same is archived with the pipeline."
   ],
   "metadata": {}
  },
  {
   "outputs": [],
   "cell_type": "code",
   "source": [
    "@assert nGaussian == gaussian |> Normalized((-4, 7))"
   ],
   "metadata": {},
   "execution_count": null
  },
  {
   "cell_type": "markdown",
   "source": [
    "The normalized object has the call method regular function.\n",
    "The normalization is computed on fly.\n",
    "It is constly for a single-value call."
   ],
   "metadata": {}
  },
  {
   "outputs": [],
   "cell_type": "code",
   "source": [
    "nGaussian(1.1)"
   ],
   "metadata": {},
   "execution_count": null
  },
  {
   "cell_type": "markdown",
   "source": [
    " When calling on iterable collection, the normalization is computed once."
   ],
   "metadata": {}
  },
  {
   "outputs": [],
   "cell_type": "code",
   "source": [
    "nGaussian(-1.8:0.9:1)"
   ],
   "metadata": {},
   "execution_count": null
  },
  {
   "cell_type": "markdown",
   "source": [
    "As before, the parameters can be updates by passing a named tuple"
   ],
   "metadata": {}
  },
  {
   "outputs": [],
   "cell_type": "code",
   "source": [
    "nGaussian(0.0; p=(; μ = 1.1, σ = 0.9))"
   ],
   "metadata": {},
   "execution_count": null
  },
  {
   "cell_type": "markdown",
   "source": [
    "For plotting of the normalized function, one does not need to specify the range."
   ],
   "metadata": {}
  },
  {
   "outputs": [],
   "cell_type": "code",
   "source": [
    "plot(nGaussian, fill=0, α=0.7)"
   ],
   "metadata": {},
   "execution_count": null
  },
  {
   "cell_type": "markdown",
   "source": [
    "---\n",
    "\n",
    "*This notebook was generated using [Literate.jl](https://github.com/fredrikekre/Literate.jl).*"
   ],
   "metadata": {}
  }
 ],
 "nbformat_minor": 3,
 "metadata": {
  "language_info": {
   "file_extension": ".jl",
   "mimetype": "application/julia",
   "name": "julia",
   "version": "1.6.7"
  },
  "kernelspec": {
   "name": "julia-1.6",
   "display_name": "Julia 1.6.7",
   "language": "julia"
  }
 },
 "nbformat": 4
}
